{
 "cells": [
  {
   "cell_type": "code",
   "execution_count": null,
   "metadata": {},
   "outputs": [],
   "source": [
    "from textblob import TextBlob\n",
    "import pandas as pd\n",
    "data = pd.read_csv('D:/Artus/École/A5/Machine Learning for NLP/Projet 2/trustpilot_en_50_page.csv')\n",
    "data['Review_corrected'] = ''\n",
    "\n",
    "for index in range(0, len(data)):\n",
    "    data.at[index, 'Review_corrected'] = str(TextBlob(data.iloc[index]['Review']).correct())\n",
    "\n",
    "data = data.rename(columns={\"Review\": \"Review_not_corrected\"})\n",
    "data = data.rename(columns={\"Review_corrected\": \"Review\"})\n",
    "\n",
    "data.to_csv(\"D:/Artus/École/A5/Machine Learning for NLP/Projet 2/trustpilot_en_50_page_corrected.csv\")"
   ]
  }
 ],
 "metadata": {
  "kernelspec": {
   "display_name": "Python 3",
   "language": "python",
   "name": "python3"
  },
  "language_info": {
   "codemirror_mode": {
    "name": "ipython",
    "version": 3
   },
   "file_extension": ".py",
   "mimetype": "text/x-python",
   "name": "python",
   "nbconvert_exporter": "python",
   "pygments_lexer": "ipython3",
   "version": "3.10.4"
  }
 },
 "nbformat": 4,
 "nbformat_minor": 2
}

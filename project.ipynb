{
 "cells": [
  {
   "cell_type": "code",
   "execution_count": 1,
   "metadata": {},
   "outputs": [],
   "source": [
    "from scripts.models import tfidf"
   ]
  },
  {
   "cell_type": "code",
   "execution_count": 2,
   "metadata": {},
   "outputs": [],
   "source": [
    "from sklearn.feature_extraction.text import TfidfVectorizer\n",
    "vectorizer = TfidfVectorizer()"
   ]
  },
  {
   "cell_type": "code",
   "execution_count": 3,
   "metadata": {},
   "outputs": [],
   "source": [
    "import pandas as pd"
   ]
  },
  {
   "cell_type": "code",
   "execution_count": 4,
   "metadata": {},
   "outputs": [
    {
     "data": {
      "text/html": [
       "<div>\n",
       "<style scoped>\n",
       "    .dataframe tbody tr th:only-of-type {\n",
       "        vertical-align: middle;\n",
       "    }\n",
       "\n",
       "    .dataframe tbody tr th {\n",
       "        vertical-align: top;\n",
       "    }\n",
       "\n",
       "    .dataframe thead th {\n",
       "        text-align: right;\n",
       "    }\n",
       "</style>\n",
       "<table border=\"1\" class=\"dataframe\">\n",
       "  <thead>\n",
       "    <tr style=\"text-align: right;\">\n",
       "      <th></th>\n",
       "      <th>Unnamed: 0</th>\n",
       "      <th>Brand</th>\n",
       "      <th>Headline</th>\n",
       "      <th>Review</th>\n",
       "      <th>Grade</th>\n",
       "    </tr>\n",
       "  </thead>\n",
       "  <tbody>\n",
       "    <tr>\n",
       "      <th>0</th>\n",
       "      <td>0</td>\n",
       "      <td>aurore market</td>\n",
       "      <td>Articles endommagés lors du transport</td>\n",
       "      <td>NaN</td>\n",
       "      <td>3</td>\n",
       "    </tr>\n",
       "    <tr>\n",
       "      <th>1</th>\n",
       "      <td>1</td>\n",
       "      <td>aurore market</td>\n",
       "      <td>très bien</td>\n",
       "      <td>très bien, continuons ensemble avec la fourche...</td>\n",
       "      <td>5</td>\n",
       "    </tr>\n",
       "  </tbody>\n",
       "</table>\n",
       "</div>"
      ],
      "text/plain": [
       "   Unnamed: 0          Brand                               Headline  \\\n",
       "0           0  aurore market  Articles endommagés lors du transport   \n",
       "1           1  aurore market                              très bien   \n",
       "\n",
       "                                              Review  Grade  \n",
       "0                                                NaN      3  \n",
       "1  très bien, continuons ensemble avec la fourche...      5  "
      ]
     },
     "execution_count": 4,
     "metadata": {},
     "output_type": "execute_result"
    }
   ],
   "source": [
    "df = pd.read_csv('data/trustpilot_1_page.csv')\n",
    "df.head(2)"
   ]
  },
  {
   "cell_type": "code",
   "execution_count": 5,
   "metadata": {},
   "outputs": [],
   "source": [
    "from scripts.preprocessing import clean_df,drop_stop_words"
   ]
  },
  {
   "cell_type": "code",
   "execution_count": 6,
   "metadata": {},
   "outputs": [
    {
     "data": {
      "text/html": [
       "<div>\n",
       "<style scoped>\n",
       "    .dataframe tbody tr th:only-of-type {\n",
       "        vertical-align: middle;\n",
       "    }\n",
       "\n",
       "    .dataframe tbody tr th {\n",
       "        vertical-align: top;\n",
       "    }\n",
       "\n",
       "    .dataframe thead th {\n",
       "        text-align: right;\n",
       "    }\n",
       "</style>\n",
       "<table border=\"1\" class=\"dataframe\">\n",
       "  <thead>\n",
       "    <tr style=\"text-align: right;\">\n",
       "      <th></th>\n",
       "      <th>Brand</th>\n",
       "      <th>Headline</th>\n",
       "      <th>Review</th>\n",
       "      <th>Grade</th>\n",
       "    </tr>\n",
       "  </thead>\n",
       "  <tbody>\n",
       "    <tr>\n",
       "      <th>0</th>\n",
       "      <td>aurore market</td>\n",
       "      <td>très bien</td>\n",
       "      <td>très bien, continuons ensemble avec la fourche...</td>\n",
       "      <td>5</td>\n",
       "    </tr>\n",
       "    <tr>\n",
       "      <th>1</th>\n",
       "      <td>aurore market</td>\n",
       "      <td>Grand choix de produits de qualité</td>\n",
       "      <td>Grand choix de produits de qualité, livraison ...</td>\n",
       "      <td>5</td>\n",
       "    </tr>\n",
       "  </tbody>\n",
       "</table>\n",
       "</div>"
      ],
      "text/plain": [
       "           Brand                            Headline  \\\n",
       "0  aurore market                           très bien   \n",
       "1  aurore market  Grand choix de produits de qualité   \n",
       "\n",
       "                                              Review  Grade  \n",
       "0  très bien, continuons ensemble avec la fourche...      5  \n",
       "1  Grand choix de produits de qualité, livraison ...      5  "
      ]
     },
     "execution_count": 6,
     "metadata": {},
     "output_type": "execute_result"
    }
   ],
   "source": [
    "df_cleaned = clean_df(df)\n",
    "df_cleaned.head(2)"
   ]
  },
  {
   "cell_type": "code",
   "execution_count": 7,
   "metadata": {},
   "outputs": [
    {
     "data": {
      "text/plain": [
       "['très bien, continuons ensemble fourche ...',\n",
       " 'Grand choix produits qualité, livraison rapide. Je recommande.',\n",
       " 'Offres produits grande quantité intéressantes',\n",
       " \"Grands choix produits qualités sauf dernièrement a beaucoup produits plus vendus ceux m'intéresse plus, force supprimer produits, n'y plus d'intérêt s'abonner car remplaçement, dommage. Les bouteilles d'huiles d'olive 3 litres Aurore market exemple entre autres.\",\n",
       " \"Impossible connecter, site maintenance, impossible joindre l'équipe téléphone\",\n",
       " \"Comme habitude produits délicieux, tellement d'articles trouve plus. Lait d’avoine, riz 5 vallées, cranberries vrac d'autres; récemment boisson limonade/gingembre mmmmm......\",\n",
       " 'Produits très bonne qualité livraison parfaite',\n",
       " \"Je tout fait satisfaite services rapidité réponse lorsque j'ai problème commandes.En revanche, vais hésiter recommander cause service livraison. Par 2 fois commande abîmée (sachets chips ouverts bocaux cassés). Ma dernière commande a mis presque 15 jours arriver point relais. Donc gros bémol livreur DPD.À noter aussi beaucoup produits disponibles, voir indisponible après paiement.\",\n",
       " 'site internet bien fait beaucoup bons produits emballage efficace',\n",
       " 'Très réactif. Je recommande. Bonne qualité produits.',\n",
       " 'Toujours plaisir commander site Aurore market',\n",
       " \"Une équipe toujours top. Je souligne quelque chose d'essentiel : alors qu'en moment, chacun va petite (ou grosse augmentation), Aurore Market fait maximum maintenir prix. Ca doit demander sacrée logistique c'est vraiment moments là qu'on voit volonté cette entreprise rendre bio accessible tous bien réel.\",\n",
       " \"Je toujours contente produits livraison d'Aurore Market\",\n",
       " 'Très bons produits,  service rapide , colis parfaitement adapté bonne livraison',\n",
       " 'Super rapide, choix relativement large service client réactif !',\n",
       " \"Rien dire toujours contente colis livreur trè simpat seul  souci   trouve tout dois être cause évènements j'espère  pouvoirs refaire commende prochainement\",\n",
       " \"Plusieurs commandes annulées bout d'une heure d'attente, tout prélevés. Je désinstalle l'appli recommanderai plus chez eux.\",\n",
       " 'Un plat jamais livré payé moi. Jamais remboursé : malgré plusieurs messages, jamais réponse. Just Eat plateforme dont faut méfier tout prix. A éviter !!!!!',\n",
       " \"En fait, note 0 étoile. Just Eat, depuis confinement, n'est plus qu'il : plus salariés disponibles tél, commandes livrées constamment soucis, plus remboursement express dès soucis livraison, ... A jour, deux commandes, deux produits manquent aucun retour donné. Cela porte juste nom : vol.\",\n",
       " \"J'ai supprimé compte Du vol carte pizza livrée n'ai jamais commandé! Je n'étais chez l'avais commandes réponse Just Eat a livree ! Ensuite plusieurs commandes annulées dernier moment produit arrivé catastrophe mauvais état après plus d'une heure retard laisse tomber, leurs livreurs non professionnel préfère prendre voiture aller récupérer produits cest plus sûr, just eat plus jamais, fuir!!!\",\n",
       " \"Commande passée debidé, bien évidement livreur jamais passé reçois mail alors sortie devant porte être réceptionné parce j'avais mis note sonné, comme quoi livreur a tenter contacter parti... mensonge final n'ai commande perd l'argent, just service client plus inexisantant car injoignable répond mail réclamation Ma commande EN1KVJ, just eat fuireeeeee\",\n",
       " \"Pire plateforme livraison. Je explique, c'est tout simplement prise d'otage. A partir moment où payé, n'y a plus aucun moyen faire valoir droits. Et cela si n'avez jamais livré XD !!Le livreur vient pas, Just Eat répondra si si, venu n'étiez chez !Vous allez commander rien recevoir aucune possibilité plaindre. Alors s'il manque qqch commande contrairement Uber règle soucis 5 min, là s'en foutent. XDJe jure pensais c'était possible....\",\n",
       " 'À lire avis peux compléter ! Même histoire , commande pizza jamais livrée restaurateur dit faire réclamation Just Eat évidemment réponds ! J’ai prélevé 39€99 livraison n’a jamais honorée cela dit j’ai aussi fait signalement auprès signal conso ! Affaire suivre',\n",
       " \"Catastrophique !Ma commande n'ayant livrée, réussis joindre intervenant just eat m'assure remboursée sous 15 jours, affaire livreur malveillant. 15 jours après, n'ayant rien reçu, j'essaie rappeler, sans succès j'envoie donc mail 2 reprises réclamer remboursement.On répond commande a bien livrée , conséquent, donc remboursé. Scandaleux !Le passage just eat coûte donc 50 euros soirée où n'ai pu dîner !\",\n",
       " \"Service client dessous tout. Une commande attente livraison depuis plus d'une heure femme service client téléphone engeule parce mécontent....\",\n",
       " 'Ils volé.  Ils affichent acheté offert  prix deux plats  A fin 1 seul plat  livré.  Pas téléphone contacter  . Seulement mail remboursement  part',\n",
       " \"Retard 30 minutes : livré 13h lieu 12h30 donc 30 minutes manger alors j'ai passé commande 11h30. Je déconseille cette application si pressé. Pas d'excuse d'explication part livreur, restaurant injoignable (pour coup, n'est faute Just Eat) possibilité contacter livreur\",\n",
       " 'Nous somme obligé mettre étoiles car faut considérer n\\'en mets absolument AUCUNES !La pire plateforme matière livraison domicile travail ! Ne comptez déjeuner espérant gagner peu temps pause déj , considérez simplement exercer jeûn intermittent !!! 1h30 recevoir commande bureau! autant dire qu\\'elle a fini voiture peine rechauffable soir vu certain produit comme dessert complètement fondu! PERSONNE  rembourse code promo 20% évidemment inutilisables fois d\\'après disant adoucir dommage engendré. La politique cette plateforme consiste littéralement \"enc*ler\" clients toute conscience !Tout simplement INADMISSIBLE !!!',\n",
       " \"commande dimanche 17/9/23 a 19h27mn livraison 21h25mn 2h d'attente plus tout froid.durant 2h, j'ai téléphoné restaurant m'a dit qu'il pouvait rien faire, j'ai téléphoné service client just eat m'a dit qu'il traitait réclamations.Après livraison,j'ai reçu mail just eat avoir avis j'ai donné termes ci-dessus depuis excuse  ni quoique soit.Je adepte livraisons domicile referais plus jamais appel prestataire just eat .\",\n",
       " 'A fuir 😡Entre livré 3h retard, plats froids erronés.... gros soucis cette plateformeLes prix élevés codes réduction fonctionnent pas.Ils répondent tel, mails catastrophe personne comprends demande....',\n",
       " 'Prévu 20h30, toujours arrivé…Inutile …Il 21h30, gars venu marche arrière pied …',\n",
       " 'Aucun moyen contacter service client alors l’aide ligne plus lacunaire',\n",
       " \"Service client déplorable, absolument fiable ,plusieurs commandes annulées après 1 h  d'attente sans être avertis ! Mauvaise communication , certains partenaires restaurants correspondent adresses réelles Google,Deliveroo Uber largement devant ,je recommande si voulez être sûr d'être livrer\",\n",
       " 'Première commande : site internet met jour commandes correctement, résultat livreur m\\'a engueulée comme quoi n\\'étais présente alors l\\'étais. Deuxième commande : j\\'attends 1h15 avant qu\\'on dise \"il n\\'y a livreur\" service client tél injoignable. Pour tous désagréments, 20% réduction prochaine commande, sérieux c\\'est tout pouvez faire ? La prochaine fois ça sans moi.',\n",
       " 'Vraiment pire enseigne livraison nourriture commande plate-forme service localisation fait croire commande préparation livreur arrive alors tout mise relation client restaurant juste catastrophique informations très mauvaises. Ils proposent offres plats carte Je déconseille fortement',\n",
       " \"Aujourd'hui hui flunch clermont ferrand. Jambon braise catastrophe, restait talon devait être cuit depuis 8 jours. Immengable dur, sec sauce vieille aussi. Les frites froides endives braisées crues froides. Une catastrophe,  beaucoup monde comprends car qualité rendez vous.\",\n",
       " \"Nous commandé chez Flunch Traiteur réveillon 31 décembre 2023, bien reçu confirmation commande.Nous présenté 31 décembre, l'heure prévue, restaurant fermé..Le lendemain, femme téléphone dit qu'ils n'avaient reçu commande service central..Au 14 janvier n'avons toujours remboursée, nouvelle personne téléphone notaire nous, disant qu'elle va passer message.. prendre nom ni numéro téléphone.... On moque monde !\",\n",
       " 'J’ai déjeuné chez flunch midi Brétigny-sur-Orge petite fille 2 ans, comment dire déception niveau qualité goût aliments alors oui consciente c’est bernard loiseau comme riz blanc fade haricots verts baignants leau jambon roti roti dailleurs mou écoeurant servi sauce truffe industrielle immonde mince aliments simples cuisiner chefs devriez goûter faites server clients après steak haché purée lenfant ba n’en parlons restaurant sale sol tables l’air jeux honte faites efforts faites contrôles jai comme payer 21 euros',\n",
       " \"Je m'y rendue 28 décembre déjeuner. Il n'y plus frites, restaient choux Bruxelles pâtes - beaucoup trop cuites. La viande bonne, froide d'avoir attendu trop longtemps cause d'un bipper fonctionnait pas.Ayant acheté jeton café, n'ai pu faire rembourser quand j'ai changé d'avis voulu prendre café gourmand place. J'ai donc payé 2 cafés (comble malchance) machine café n'avait plus lait... Adieu cappucino.\",\n",
       " 'A fuir Flunch traiteur, étoile déjà trop, sentiments être fait arnaquée, service réclamations non conciliante, propose produit alors déçu celui ci, présentable convives. Et goût rendez-vous. 27€ miniatures choux. Honte a',\n",
       " 'Va falloir donner bonne explication 80 commentaires plus mien mentionnent 30 plus minutes d’attentes steak! Et 4 fait temps Le restaurant pagaille salariés savent plus quoi faire s’excusent ! C’est n’importe quoi Nous manger 4 temps différents! Ma fille a vomis 3 h après mal ventre nausée ect .... tenue deguelas rendre événement ! Du coup journée gâchée 60  euros perdu ! Des plats manquants sans avertir consommateur ! Pour enfants seulement boulette poisson c’est inadmissible ! Plat adultes manquant! Desserts manquant ! Frite molle froide ! 10 mins après mettre servis viande flottait l’eau assiette ( celle légumes ) ! Assiette où m’a servit viande sale cuisinier a répondu plonge c’est faute !!!! Une blague change assiette suite remarque ! Coin enfant décevant plus payant ! Personnels rattrapent désastre payons jeter ! Au final a rien manger part enfants boulettes poissons frites qu’elle a revomit donc perte total journée! Ne répondez c’est week-end répondez allez évoluer changer car c’est vrai! Le but c’est satisfaire consommateur coup c’est plutôt faire business dessus !',\n",
       " 'Je 1,5 étoiles car trouve poisson  nuggets ( dures ) très bonne enfant a trouver \" dégueulasse \" bruit cris enfant insupportable crêpes moyennement bon',\n",
       " 'A fuir !!!!  Le service degueulasse !!!! Rien a servir !!! Personnel crie devant clientèle !!!!! Il nettoie table chauffer plat  pendant gens servent lieu leFaire avant !!!!  C degueullasse meme siPas cher raison pr manger ds m….Personnel incompétent !!!!  A image',\n",
       " \"Nous l'habitude d'y aller très fréquemment. Mais après rebranding, choses changé. Ils maintenant agent sécurité promène autour tables fait contact visuel gens, rendant l'ambiance très désagréable. On dirait tout monde table inspecté. Il a observé certains membres personnel l’agent sécurité respectent normes d'hygiène. Par exemple, juste devant nous, ramassé fourchettes couteaux terre mélangés d'autres 'propres'.Nous exprimé inquiétudes sujet, responsable venu soutenir l'agent sécurité alors dernier criait tentait agresser physiquement, moi-même femme enceinte, devant tout monde.Nous signalé cela société sécurité, fait intimidations affirmé responsable restaurant soutenait.L’agent aussi a menacé.Nous également signaler Flunch aucun réaction part.Une expérience très négative c'est endroit dangereux.\",\n",
       " \"Plats affichés rupture ( n'est 12h30). Prix exorbitant rapport autres restaurants galerie ( carrefour Langueux).Personnel incompétent. Caissière 17 ans dit d'aller faire cuisine nous-mêmes!  Responsable devrait changer métier car toutes façons s'il persiste restauration n'aura jamais travail. Ce responsable très agressif, préféré laisser plateaux.. Bref Flunch Langueux fuir !\",\n",
       " 'Nous manger flunch Laval Les chef accueillant Les hamburgers froid Inadmissible',\n",
       " 'Prix devenu hallucinant, serviette prête, donne 1 plus, qualité vaut plus prix.... Vaut faire buffalo ça peine plus cher tellement meilleure',\n",
       " 'Flunch ouvert toute journée: envie déjeuner tard, buffets desserts salade bar dressé, moment passer caisse, indique qu’il n’y a plats chauds…. Avons fait demi tour comprends pourquoi l’enseigne peine',\n",
       " \"Refuser l'accès toilettes femme enceinte sans consommation mérite l'on boycotte Flunch, rue Beaubourg; C'est mauvaise expérience m'est arrivé 14 septembre 2023\",\n",
       " \"Nous l'habitude d'y aller , après ans sans avoir , allées funch Varennes 77, Nous déçu car personnels désagréables, repas médiocre très peu choix bien trop  cher  , retournerons plus..;\",\n",
       " \"non franchement ça va aller jusqu'où prix chez flunch ? 1/4 poulet 8,99 ( dire 9 e ) ça met poulet entier 36 e gros !!!! jambon découpe 9,99 e ( dire 10 e ) largement abusé , si prend entrée dessert autant aller restaurant où servi.  flunch c'est terminé repas chers .... force faire envolée prix , c'est clients s'envolent , voit baisse importante fréquentation , sait pourquoi.\",\n",
       " \"Nous rendus Flunch vendin vieil dimanche 23 juillet.Après avoir mangé entrée, allés chercher plat laissant table boissons (bière eau bouteilles ) non ouverts,nos jetons café ,les spéculos sucre.A retour tout debarassé, table prise agrandir très loin.Je vois employé explique problème, répond qu'il s'occupe débarrasser, agréable plus, toujours là plateaux sans table.Je lève ton,un responsable arrive, aucune excuse,il dit d'aller rechercher boissons, dit allez chercher même.Entre deux récupérons table.Un autre monsieur apporte deux boissons.Reste récupérer verres,couverts.Je n'ai plus pensé jetons café tellement j'étais surprise c'était passé.\",\n",
       " 'Etant sources Nord parents passé toutes vacances jeunesse  \"été,  hiver\" Nord Belgique connais bien plats comme endives jambon bien moules. Et préparation cuisson simple exhausser gout, ( Oignons haché, échalottes hachés dernier sinon amer , faire colorer poêle , rajouter carottes petit batonnet ainsi l\\'ail, persil haché queue persil, laurier ) aussi produits tout prêt congelé, reste verre vin blanc sec a rajouter. Déposer moules lorsque ça bout faire retourner moules cuisson uniforme lorsqu\\'elle ouverte attendre 1 minute retournant Gouter c\\'est bon',\n",
       " 'Ce soir, allée Flunch Villeneuve d\\'Ascq. J\\'y emmené soeur. Cela faisait années n\\'y allées. Nous commandé beef bacon burger.Après temps d\\'attente interminable, personne service a tendu assiette laquelle avait: Un pain froid, garni d\\'un steak ridiculement fin, taille d\\'un menu enfant froid également. Le bacon quasi inexistant, c\\'était reste bol, tout distribué personnes devant nous. ( Il n\\'était 19H40)Nous pensions, tort, \"rattraper\" légumes: seules frites, quoique suintant l\\'huile, \"mangeables\". Le reste légumes tiède insipide.J\\'ai laissé 3/4 pain, mangé ridicule steak, qq frites grasses.Seule San Pellegrino correcte, Pour 25,97 euros deux, ça fait cher petite bouteille d\\'eau pétillante!Le clou spectacle a quand long cheveu trouvé hamburger.. Je partie là dégoutée !Tout suite, j\\'ai pensé écrire faire part mécontentement. Sur ticket caisse, écrit grand \"donnez avis\", bien voilà: Je n\\'en reviens toujours demande si remettrai jour pieds chez vous.. scandale!J\\'étais contente retourner Flunch, j\\'en revenue déçue point plus retourner.',\n",
       " \"Tarif excessif 13.99 euros bavette légumes volonté.La qualité rendez vousPour afficher prix, veux bien faut service suive loin etre cas, niveau l'avant covid tarifs doubler certains cas : assiette légumes seul 2018 : 3.95 euros, aujourd'hui 7 euros !!C simple pensait flunch cafetaria affiche tarif plat jour vrai resto.\",\n",
       " '0.Commande passée avant 20h, 21h10 toujours rien puis commande indiquée livrée 21h15 sans livraison ni aucune trace d’appel livreur autre contact. Aucune réponse téléphone malgré 15 min sonnerie vide ! Honteux ! Scandaleux. C’est deuxième fois. Plus jamais ! Et + formulaire réclamation ligne fonctionne !',\n",
       " \"Superb.. pizzas incroyable. Beaucoup d'amélioration depuis l'année dernier.. vraiment trop bon personnels très amiable.Dommage j'en peux mettre photos.\",\n",
       " \"Livraison retard plus d'une heure. Un soi disant service client n'a aucune réponse. Et pizzas arrivent très très froides. Et couronner tout, c'est mauvais !\",\n",
       " \"Domino's pizza gambetta Nice Pizzas peu garnis, très médiocre, pizza chèvre  miel (de petits morceaux ci là), pizza reine champignons  boîte  ! petits morceaux jambon 1er prix minable, sauce tomate coulis tomate, écœurant.Je n'ai jamais mangé d'aussi mauvaises pizza.\",\n",
       " \"La délicate attention apportée mentir client livrer commande encore moins rembourser devrait suffire comme argument non ? La 1ere fois passe encore comme c’est 2e , pense s’asseoir partager autres importance maintenant   ^_^Ayant connu peu rats carrière dominos, peux l’affirmer : hautes sphères Rats PALAISEAU. Et savons déjà rat remboursera jamais (mdrr)Ne rêver : aucun arrangement l’amiable n’est possible fois argent volé. Et Miséricorde celui a volé, car qu’on sème, récoltera toujours.Mon conseil ? Allez celui d’Orsay quelques minutes plus loin ^_^ , portions vraiment plus généreuses l’humanité présente.Quitte être fidèle, autant l’être bonne endroit :)De part d’un habitué coin.Have a nice day !PS : J'attends toujours appel remboursement hein #saitonjamais\",\n",
       " \"Les deux pizzas médiums très chargées viandes n'inspirées confiance couleur. Effectivement bouche n'avais goût attendu fraîcheur. Malade comme chien toute nuit rendre commande.... Experience fait prendre décision plus jamais commander cette enseigne !\",\n",
       " \"Très déçu expérience chez Domino's pizza Calais d'abord spécialiste pizza,3 ingrédients manquants jambon champignons bacon, principaux 😂😂😂 remplacé d'autres ingrédients changé goût j'avais demandé geste commercial rembourser commande donc terminé Domino's\",\n",
       " 'Très déçue commande soir chez dominos. Une bacon groovy sans sauce barbecue peperoni party 3 rondelles peperoni courent après, vu prix pizzas c’est inacceptable!',\n",
       " 'On lire avant commander … Commande passée 19h30 , 21h20 toujours rien … j’appelle gentille dame demande laisser parler s’excite toute seule… aucune excuse , c’est faute machine n’a sortie commande… aussi faute téléphone transmet appels pendant 1 heure…. Bref évite absolument. Pour remercier attente, propose boisson …. Triste enseigne !',\n",
       " '100 ans livre petite pizza abuser , commanderai plus',\n",
       " \"Équipe super accueil pizza bien chargé contrairement d'autre pizzeria recommande fortement dominos saint berthevin\",\n",
       " \"Le meilleur j'ai déguster, merci\",\n",
       " \"Dominos pizza meaux 77100 éviter aucun respect clients commande passée samedi 11 novembre 18h40 récupérer 19h45 commande prête cerise gâteau l'insolence personnel plusieurs clients cas\",\n",
       " 'Une ambiance tranquille bonne nourriture, quoi passer bon moment amis',\n",
       " 'Inadmissible, pizza réduite , plus personne qu’on a téléphone , disant fait pizzas assure qu’elle n’ont réduite alors entre 28 cm normalement 22 cm maintenant ,ridicule . Celui qu’on a bout fil cris , où la, oublier entre médium taille enfant a grande différence , sous pression minimum professionnalisme vigueur.Et 40 minutes retards.',\n",
       " 'Obligée mettre 1 étoile laisser avis ça mérite énorme zéro pointé.Première expérience dernière.La grosse blague siècle. Pitoyable. Ah photos site elles belles réalité c’est grand n’importe quoi. A croire nourriture a subit gros crash aérien entre photo j’ai l’assiette. Là c’est maman j’ai rétréci bouffe. Deux pauvres frites courent après, Buffalo wings manquants j’attends toujours, oignons crus, pizza infecte… n’arrive comprendre comment personne prépare cette nourriture peut être satisfaite rendu surtout vendre ça.La seule chose remplie commande c’est quantité cartons emballer nourriture.Allez manger ailleurs, Fuyezzzz.',\n",
       " 'Super accueil très agréable. Préparation rapide, recommande Perrine Clément 👍👍👍 Merci bientôt',\n",
       " 'Hyper déçuePizza sec presque condiments dessusPratiquement crème😬😬😬😢😢😢',\n",
       " \"Commande faite ligne l'heure différé n'a prise compte pendant commande ligne\",\n",
       " \"Publicité mensongère voleurs..ils prétendent vendre seconde pizza partir 2.99 euros quand prends celle partir 2.99 euros internet, a supplément 2 euros médium, 4 euros celle dessus 6 euros encore celle dessus.. autant dire dès début partir 4.99 euros.. pareillement autre fois troisième pizza gratuite.. j'ai retiré bord pizza j'ai assemblés fait troisième pizza n'était qu'un cumul croûte car l'ensemble s'étaient rentabilisés garniture. Quand vois prix d'une pizza minimum 14.99 euros cher vue plus qualité.. terminé !\",\n",
       " 'Déçues !!!!  Burger King Herblay Après plus 30mn d’attente 2 menus whopper… aucune excuse finir whopper froid. Pfff',\n",
       " \"Sandwichs platitude extrême. Ce rabaisse burger king n' équipes sans cesse renouvelée dit beaucoup conditions travail management, pauvreté leurs recettes ,de sauce ,des burgers tout ça a prix fait rire tellement surestiment mets plus très moyens.\",\n",
       " 'Impossible d’accéder compte application. Essai bout 10x redemande tjs connecter Impossible joindre résoudre pbs siège informé n’a strictement rien faire ! Pour c’est très simple perd plus temps argent. Je mets plus pieds suppression application.',\n",
       " 'Super bon, personnel très agréable rapide propre',\n",
       " 'Burger King - Geispolsheim Vigie (Région Grand-Est).Oublis fréquents burgers pris extra hors-menu lors passage voiture drive emporter. Concrètement, plus 30€ \"d\\'oublis\" an.Certains employés semblent agacés quand précise nourriture déjà tiède voir manquante ? Je vais m\\'étendre l\\'irrespect manque professionnalisme certaines employéEs.Au général.J\\'en profite dire qu\\'il devient fatiguant voir autant Burger King autres fast-food pousser chaque coin rues grandes villes leurs agglomérations. Votre omniprésence paysage finit être tout aussi vomir burgers chili cheese froids.',\n",
       " 'Absolument infecte  impoli relation AUDREY service conso n’a jamais donnée suite réclamation En effet mari décidons d’aller manger quelques chose bon détendre dimanche  .J’avais bonne image cette enseigne , plus maintenant totalement exécrable , fait arnaquer .En effet allons donc BURGER KING LA GARE DE L’ EST . Nous commandons borne 2 menus BIG KING  . Nous décidons attendant commande patienter , restaurant ensemble n’était propre , si j’avis su consulter avis via Google, sans compter l’état scandaleux leurs WC . Un monsieur apporte menus bout 20 minutes , burgers correspondait vraiment a commande, plus toucher froid insipide  sans compter choc frittes froide fromage cheddar dessus première fois vois cela !!! Finalement tous jeter emportant boissons bien manger autre fast food Secteur . J’ai contacter service consommateur j’ai réponse voir d’un copier coller part AUDREY n’a politesse s’ eXcuser apporter geste commercial EN ME RAPPELANT , donc avis converge vraiment . Je n’irais plus jamais ferais pub l’ expériences négative  qu’ils apporté, Voilà comment faire carotter 20.40 € A FUIR',\n",
       " \"Burger king d'Evry...Une cuisine va vite dépanne trop juste être vraiment appréciée, surtout quand hiver qu'on sert froid !! Bien décevant point là, quand souhaite avoir repas chaud réchauffer ! Puis, temps, c'est rarement super chaud, plus BK où fait froid également, n'arrange rien...! Du coup, pris commande sac manger chaud être chaud chez soi.Beaucoup tables non nettoyées aussi.\",\n",
       " 'Je trouve qualité diminué moins sauce hamburgers pain peu sec dommage',\n",
       " 'Personnel agréable qualité sandwichs forte régression pain sec sauce inexistante sandwiches juteux qu’on aimait ?',\n",
       " \"Bonjours ,j'ai commande menu bk xxl +120 points sandwich 31/12/2023 vers 22 h .Ma commande a accepté restaurant assignée livreur puis annulée.mais j'ai payé 15.70€ n'a  remboursée ni 120 points j'ai compris restaurant Nice Médecin fermé 19 hN°de commande :alirez-fb00réalisée 31 décembre 2023 22h01après 10 jours j'ai rembourser.merci SAV\",\n",
       " 'J\\'ai reçu coupon utilisable jour valeur d\\'environ 6,50 euros l\\'application Burger King. Comme c\\'est malheureusement souvent cas, restaurant l\\'enseigne Villiers-sur-Marne (94) n\\'était mesure prendre compte \"raisons techniques\" responsable a très sèchement refusé tout geste commercial. J\\'ai contacté service clientèle m\\'a généreusement offert points valeur d\\'environ 2,50 euros prenant aucun engagement d\\'amélioration quant problèmes rencontrés...',\n",
       " 'Restaurant Bagnols Cèze médiocre tout points.( Qualité , hygiène, choix) 2 fois 3 a souci commande. Aucun geste commercial. Personnel irrespectueux parlons manager! Fermer restaurant plus vite.',\n",
       " \"L'application nulle fonctionne toujours moment payer !!!!En caisse refusent malgré tout aire profiter l'offre ! Merci BK vérifier appli (ce n'est 1ère fois ca m'arrive)\",\n",
       " \"A Auxerre Gambetta commande internet n'était marquée ni préparation ni prête, bout 10 mn j'ai demandé comptoir, sac ! Du coup frites froides glaces moitié fondues ... Et points non crédités ! Formez salariés !\",\n",
       " 'Personnel très accueillant , maladie droit manger gluten , enleve pain.',\n",
       " 'Sauces creamy ranch 1954 grilled flavor excelente, commande presque toujours respecté. Service convenable',\n",
       " \"J'étais deux burger king qu'elle déception celui Marsac l'Isle plus part employés n'ont aucun respect clients celui Trelissac a jamais 50cl boissons celui Marsac serviette manquait oignons burger très déçus certains serveurs n'ont aucun respect clients insulte frites terribles\",\n",
       " \"Je reste mitigée l'efficacité produits car respectant scrupuleusement programme depuis plus 2 mois n'ai rien constaté concret.Je sais trop s'il faut conseiller car celà revient quand assez cher.\",\n",
       " \"Je connaissais produits cuisinais moi-même j'ai voulu essayer plats cuisinés !!!!! énorme déception fades caoutchouteux, trop épicés emportent bouche .je pense pouvoit terminer 4 plats restent....\",\n",
       " 'Une livraison rapide produits top. Merci',\n",
       " \"J'ai commandé 3 plats arrivés très vite. J'ai beaucoup aimé spaghettis bolognaises, curry coco n'est mal plus proche goût d'un plat préparé baqque. Je goute lasagnes midi ;) trouve concept super :)\",\n",
       " \"J'aime beaucoup produits riz, spaghettis, noodles. Vivement qu'on trouve vraiment magasin (de toutes enseignes citées, n'ai jamais trouvé produits LIV). Par contre fort déçue lasagnes j'ai trouvés peu maniables, caoutchouc point avoir fini plats préparés (et l'agacement devoir jeter produits associés).\",\n",
       " \"bonjour, assez satisfaite produit, surtout noodles spaghettis. Par contre, crois fais bien cuire car consistance n'est vraiment celle vraies pâtes. Sinon, j'adore côté très rapide recettes.\",\n",
       " 'Désolé n’avoir aimé. Pas goût sauces etc…Le produit n’absorbe sauces comme pattes riz. Impression manger vent.',\n",
       " \"J'utilise plats cuisinés depuis mois, environ 2 3x semaine...Super, perds poids sans avoir faim, estomac sleevé Happy, n'y a aubergines dont n'aime texture (lasagnes peu épaisses goût)... Une super alternative midi, où toujours pressée, où généralement déjeune mal !Merci !!!\",\n",
       " 'Tres décevant J’ai commander spaghettis, noodles plats préparésLa texture pâtes comme trop cuite caoutchouteuse, ça s’apparente algues calamar mal cuit Les plats préparer bon tout revient super cher J’ai commandé vu vidéo Mercotte dit qu’on dirait vraiment pâtes… c’est foutaise Je n’en reviens qu’elle participé cette pub Gros gaspillage d’argents coup',\n",
       " 'Les spaghettis juste incroyable, contre lasagne veggi curry coco très difficiles goût. Je pense être difficile j’ai mangé tas plat perte poids terrible … faut vouloir c’est dommage. Je respect scrupuleusement j’ai perdu dégonflée.',\n",
       " 'En mois après changement drastique façon nourrir grâce Lïv, j’ai perdu 2.5 kgs. Une prise sang, dont résultats reçus hier m’ont réconfortée, donnent raison choix : Lïv aucune sensation faim meilleur tonus …',\n",
       " \"Très satisfaite produits, bémol lasagnes, esthétiquement peu convaincantes). J'en offert paquet médecin nutritionniste suit : très surprise ravie constater perte 3,4kg mois (à raison d'une portion chaque soir) !\",\n",
       " 'Belle découverte gamme liv konjac. En effet cela permet réaliser plats goûteux rassasiant maîtriser apport calorique. De plus c’est facile rapide!!! Que demander plus',\n",
       " 'Bonjour Très déçu cette expérience liv happy good.... Car vendent pâtes konjac extrêmement cher a savoir rapport 4 fois plus cher cher action , produit , quantité, packaging.... Je dégoûtée cet société.....passez chemin',\n",
       " 'Très bons produits !! Deuxième commande recommanderais !',\n",
       " 'Nous aimons beaucoup, preuve commandons recommandons encore…à part lasagnes dont trouvons présentation peu attractive peu appétissante. Dommage car c’est très bon. A quand d’autres plats?',\n",
       " \"Je m'attendais déguster vrais pâtes riz tel qu'on connais difficile parler régaler.. c'est assez cher faut vraiment appétit moineau rassasier..peu calorique certes si compte tout l'on rajoute mangeable sauce pesto fromage ect dépasse vite côté régime tant vanté..les produits gluante l'odeur bof très agréable..les portions très petites si rajoute sauce autre c'est fade vraiment bon..le pouvoir rassasiant encore a prouver..très déçue car croire publicité site déguste vrais spaghettis assure très loin..bref recommande vaut mieux manger pâtes riz complet moins souvent nest produit allez régaler\",\n",
       " 'J’adore , commande régulièrement peux plus m’en passer!',\n",
       " \"Livrée très rapidement certesmais très déçue quantité paquets, c'est très cher c'est... La texture n'est vraiment top, goût top non plus...Je pense recommander deuxième fois...\",\n",
       " 'Très contente produits, envoi rapide site confiance.',\n",
       " 'Toujours top personnes charmantes, aimables toujours près leurs clients servir présenter leurs nouveaux produits. Continuez ainsi.',\n",
       " 'Toujours aussi gentil, toujours très bons produits, recommande fortement',\n",
       " 'Très bon accueil, produits top : excellente adresse ! À recommander tous amateurs bonnes choses.',\n",
       " \"L'accueil chaleureux gourmand. Les produits délicieux peut goûter avant d'acheter. Un vrai régal\",\n",
       " 'livraison rapide, bonne communication relation client top',\n",
       " 'Accueil super sympa très bon produits!',\n",
       " 'Produits superbes! Fromages exquis! Et pain sarde fait voyager Sardaigne ! On a envie d’acheter toute boutique . Avec plus tout ça jeune patron accueille buongiorno fait chaud cœur conseille très finement !',\n",
       " 'Toujours aussi bon, bon rapport qualité prix, surtout très bon accueil !',\n",
       " 'Le service client très réactif donner satisfaction',\n",
       " 'Service excellent, rapport qualité prix parfait, classe magasin bien-être',\n",
       " 'Rapidité professionnalisme Je recommande',\n",
       " 'Très bons produits, très bons conseils très sympathiques... Tutto a posto! Grazie !',\n",
       " 'Super communication, très commercial prévenant Je repasserai commande sans hésitation Je recommande cet entreprise Merciiii',\n",
       " \"J'ai l'habitude commander produits directement Italie j'ai découvert incidemment cet entrepôt France. J'avoue finalement, expérience unique, produits nettement plus chers qualité similaire. Juste grosse déception panforte malgré bons ingrédients reste étouffe chrétien.\",\n",
       " 'Super accueil ! Des professionnels écoute service !',\n",
       " \"Cela fait plus d' an demi cliente derniers temps aperçue quantité repas a baissé, prends repas 4 personnes souvent a tout juste 3 personnes alors rencontrais problème auparavant. Et beaucoup trop repas où faut rajouter surplus coût commande coup ça laisse très peu choix parmi autres menus. Je mets davantage coup abonnement pause réfléchis sincèrement autre alternative.\",\n",
       " \"Repas simple faire. En 30 voir 45min. Bon produits. Repas change l'on peux faire quotidien. Très bon.\",\n",
       " \"Bonjour, cela fait quelques mois j'utilise services. Je l'ensemble très satisfait. Les plats très bons, n'ai jamais déçu. Les recettes très biens expliquées faciles suivre. Le seul reproche pourrai faire concernant plats, c'est parfois quantités viandes/ poissons assez maigres. Pour point essentiel lequel a progrès faire, c'est livraison. J'ai beaucoup problèmes niveau. On sait tous temps quand livraison va avoir lieu. Des fois informés, d'autres fois non. Je censé être livré samedi matin. Plusieurs fois j'ai attendre lundi recevoir. Or lundi travaillons pose gros soucis. Pour etre honnête pense arrêter services bien très  satisfait qualité plats livraison laquelle n'êtes certainement responsable, parle Chronofresh, rend service moyennement fiable compte tenu valeur colis livré.\",\n",
       " 'Nouveau goût, recettes faciles.',\n",
       " \"De bonnes recettes, frais variés, produits qualité.Dommage juste recevoir alertes commande avant clôture semaine, ( peut être cela existe déjà,). Je vais continuer cuisiner hello fresh j'adore cuisiner, cela m'aide vraiment moins chercher plus aller magasin sortir grosses factures.\",\n",
       " 'J’ai découvert HelloFresh a 2mois j’en très satisfaite ! Tout bien frais quand a moindre soucis SAV très réactif.',\n",
       " 'Aucun mail ni message concernant livraison  jour.Je viens découvrir  livraison effectuera lundi matin alors personne récupérer. Merci.',\n",
       " 'Plats goûteux équilibrés. Quantité copieuse accompagnements.Manque peu variété poissons, viandes.',\n",
       " 'Simple, rapide efficace,tout demande cuisine',\n",
       " \"Je très dessus première commande. J'ai commandé offre où petit déjeuner offert vie fu surprise constater qu'il n'y petit déjeuner commande...Publicité mensongère...? Sinon tout lair bon commende, fiches repas semble très bien détaillées, produit lair qualité..., sais si vais continuer commandé car n'aime faire évoluer entreprise malhonnête...\",\n",
       " 'Bon produits recettes goûteuses change ´ordinaire',\n",
       " 'Livraison impeccable date prévue chaîne froid respecté recettes faciles réaliser très variées choix chacun plus temps élaborer repas',\n",
       " \"Je n'ai jamais reçu première box.Le service livraison nul ni chronofresh, ni hellofresh propose solution.\",\n",
       " 'Ne plus chercher quoi cuisiner Avoir produits frais bonne quantité',\n",
       " \"Cela fait plusieurs fois livrée menus commandés, reçois correspond j'ai choisi préalable.\",\n",
       " \"Très bonne expérience après trois semaines d'essai ! Recettes variées très gourmandes, cuisiner n'a jamais aussi simple nous.\",\n",
       " 'Recette : manière générale, recettes fromages fondus (exemple st-nectaire) mériteraient quantité peu plus importante fromage.Ingrédients : reçu plusieurs fois produits non utilisables (avocat mûr après 1h four, 2 oignons pourris / gelés 2 commandes différentes, épices manquantes), attention plus importante devrait être faite point.Choix recettes : assez poisson globalRecette papier : OKPackaging livraison : OK',\n",
       " 'Les recettes faciles réaliser, très bonnes, elles plu toute famille.Très bon concept, recevons tout ingrédients réaliser toutes recettes semaine.',\n",
       " 'Savoureux, varié, équilibré, pratique,  ravis l’expérience Hello Fresh. Les fiches recettes très bien faites tout bien pensé. l’application ludique didactique, bref, rien redire.',\n",
       " 'Les recettes très bien calculées expliquées. Elles correspondent  souhaitons.Petit bémol, depuis quelques box, légumes verts fanes oas très frais.',\n",
       " \"Bonjour, remets avis compte tenu l'incapacité répondre retour fais précédent. Concernant suivi diététique,  effet notifié quelque part site c'est prendre RDV gras souhaite quand souligner, l'ai fait.Concernant choix plats, oublié noter j'avais bien sélectionner plats, cela n'a pris compte. Par contre depuis effet sélection bien celle reçois.Pour livraison, suivi Chronoposte fait veille matin même,  donc si a yeux constamment portable, impossible décaler livraison. D'ailleurs hier vendredi j'ai demandé décalage,  là surprise vois livraison prévue lundi. Sachant l'ai sus uniquement suite non livraison colis matin j'ai retrouver suivi savoir colis. Premièrement là lundi donc impossible réceptionner colis m'inquiète vraiment l'état.J'ai pris décision faire semaine après semaine afin d'avoir plats frais, là jele regrette.Par contre j'ai bien débité montant semaine, aucun soucis côté là.  Très bonne gestion.Il reste 2 semaines plats, n'ai d'autre choix d'accepter compte tenu payez automatiquement, sans validation transaction CB. Vous prônez fraîcheur plats traiteur, commande jour, départ locaux jeudi, réception sais quand car lundi dispo... fraîcheur.  105€ semaine . .\",\n",
       " \"Bonjour, Depuis mois septembre j'ai commencé j'ai première diététicienne top, ensuite arrivé Manon poursuit grande distinction bien être client. Je vraiment enchantée l'attention qu'elle porte ainsi l'ensemble conseils toujours très judicieux reçu. Manon a don, passion bien être. Grand merci elle. De part Sandrine, cliente heureuse.\",\n",
       " \"Lorsque j'ai effectué commande j'ai reçu 1er colis j'étais très impatiente.  J'ai commencé juillet 2024 janvier j'ai perdu 11kgs. J'ai encorec10 kg perdre malheureusement n'ai budget continuer. Les repas bons déçue avoir desserts. 2 encas trop contre.\",\n",
       " 'Ras, n’ai rien ajouter',\n",
       " 'Objectif atteint deux mois demi sans perdre plaisir manger.Merci toute l’équipe Kelly précieux avisés conseils',\n",
       " 'Très bien accompagnée diététiciennes. Plats traiteurs variés savoureux.',\n",
       " 'Voilà bientôt 2 mois j’ai commencé programme j’en entièrement satisfait !',\n",
       " \"Très bonne expérience J'ai perdu moins voulais bien affinée j'ai perdu 4kg quand 2 mois demi.Kelly top l'écoute, souriante, sais très bien expliqué programme Je recommande\",\n",
       " 'Je débute programme très satisfaite perte poids associée. En terme quantité, plats suffisants. Je mets 5 étoiles car j\\'ai, cependant, peu mal m\\'habituer plats \"en sauce\" formule classique, fait pense peut-être basculer formule traiteur. Je tiens mentionner diététicienne assure suivi, Fabienne, j\\'ai 2 rdv téléphoniques. Elle a beaucoup connaissances, c\\'est vrai plaisir d\\'échanger elle.',\n",
       " \"Très bon contact diététicienne. L'équipe très présente aider tous niveaux. Programme facile suivre.\",\n",
       " \"Je agréablement surpris saveur plats j'ai reçu premier mois. Les plats proposés très variés. Pour deux premières semaines, très satisfait perte poids, plus 5 kg! De plus, Manon, diététicienne suit, m'a donné précieux conseils. Un peu volonté, surtout premiers jours, pense c'est portée tout monde.\",\n",
       " \"Très bonne expérience depuis j'ai commencé. Repas équilibrés bons goût. Mon poids diminue  progressivement, convient. Ma diététicienne Manon propose suivi attentif, amical rigoureux. C'est aide importante sentir bien accompagné long terme.\",\n",
       " \"Je très satisfaite expérience programme Cheef. Les plats goûteux j'apprécie large choix proposé. Mes rendez-vous réguliers Manon l'occasion faire point programme l'adapter si besoin. Le contact excellent conseils très précieux moi. En résumé, recommande sans réserve.\",\n",
       " \"Très bonne expérience, plats bons suivi diététicienne très appréciable, jugement ni d'obligation recommandations. Les séances sport super programme. Un peu compliqué contre suivre certains cours, coachs a chaque fois différents coup niveau difficulté n'est donc peu difficile suivre. Le service client très l'écoute réactif, j'ai soucis plat ça tout suite traité ! Super cool ! Pas besoin d'attendre trois plombes râler 🤣. Je très contente mettre lancé.\",\n",
       " \"Je commence 4ème programme Cheef 4 ans confiance enthousiasme. Les 3 précédents toujours fonctionné malheureusement vie professionnelle entraînant perturbations importantes gestion sommeil l'alimentation associée problèmes chirurgicaux sevères entraîné reprise de.poids insidieuse. Alors redémarre nouveau programme confiant résultats escomptés. Le programme efficace agréable varié, facile mettre oeuvre. Et l'accompagnement personnalisé Fabienne diététicienne clé réussite. En effet souligne gentillesse disponibilité, compétence sens l'adaptation régime situations complexes, conseils précieux domaine compléments alimentaires micronutriments, compréhension talents psychologie m'ont toujours soutenu moments difficiles, patience er persévérance malgré nombreuses difficultés sui pu être cause d'zbandon programme. Merci Fabienne merci Cheef. Luc\",\n",
       " \"J'ai perdu 9 kg Cheef traiteur plats très variés grâce l'accompagnement diététicienne très professionnelle er très efficace pleines d'astuces 4 mois !!!\",\n",
       " \"J'ai plaisir chance d'être conseillée Fabienne. J'ai excellent contact elle. Je vraiment satisfaite conseils.CordialementClaire\",\n",
       " \"Très satisfaite. Les plats variés délicieux. La possibilité changer menus établis ainsi dates lieux livraisons appreciable. Les portions généreuses n'ai sensation faim. Le rdv tous 15 jours diététicienne important suivi, conseils encouragements. Je recommande\",\n",
       " 'tres bien a certain plat bouilli',\n",
       " \"J'ai perdu 1kg semaine. C'est très satisfaisant\"]"
      ]
     },
     "execution_count": 7,
     "metadata": {},
     "output_type": "execute_result"
    }
   ],
   "source": [
    "corpus = drop_stop_words(df_cleaned)\n",
    "corpus"
   ]
  },
  {
   "cell_type": "code",
   "execution_count": 8,
   "metadata": {},
   "outputs": [
    {
     "name": "stdout",
     "output_type": "stream",
     "text": [
      "  (0, 878)\t0.5740699474980081\n",
      "  (0, 754)\t0.45794003145836304\n",
      "  (0, 512)\t0.5740699474980081\n",
      "  (0, 277)\t0.29895001868824006\n",
      "  (0, 1980)\t0.20446810184838796\n",
      "  (1, 1616)\t0.3770956092314403\n",
      "  (1, 1056)\t0.24092235163643133\n",
      "  (1, 1591)\t0.3855765391575497\n",
      "  (1, 1117)\t0.3166434942917357\n",
      "  (1, 1569)\t0.34261545913795666\n",
      "  (1, 1510)\t0.27215785472632925\n",
      "  (1, 409)\t0.3855765391575497\n",
      "  (1, 938)\t0.45901899053969747\n",
      "  (2, 1042)\t0.5474953977100094\n",
      "  (2, 1573)\t0.38524358871042225\n",
      "  (2, 939)\t0.47761734706888564\n",
      "  (2, 1319)\t0.5066193584614581\n",
      "  (2, 1510)\t0.2589491499403966\n",
      "  (3, 237)\t0.13816930855549417\n",
      "  (3, 761)\t0.1606459109653166\n",
      "  (3, 798)\t0.17568128418089277\n",
      "  (3, 1181)\t0.16740672119737904\n",
      "  (3, 231)\t0.16740672119737904\n",
      "  (3, 1114)\t0.2013844244626035\n",
      "  (3, 1323)\t0.2013844244626035\n",
      "  :\t:\n",
      "  (164, 1445)\t0.11305174251695993\n",
      "  (164, 1467)\t0.18436679967197586\n",
      "  (164, 1100)\t0.12805982941826308\n",
      "  (164, 1953)\t0.1573929205968464\n",
      "  (164, 1069)\t0.16258930563368348\n",
      "  (164, 13)\t0.1685880919140381\n",
      "  (164, 124)\t0.08848574982502\n",
      "  (164, 1777)\t0.1487092710944679\n",
      "  (164, 692)\t0.18436679967197586\n",
      "  (164, 1107)\t0.2434707840386769\n",
      "  (164, 1616)\t0.13849934434029082\n",
      "  (164, 1056)\t0.08848574982502\n",
      "  (164, 1980)\t0.07527380176423625\n",
      "  (165, 303)\t0.5380370699766613\n",
      "  (165, 1968)\t0.49786719004428165\n",
      "  (165, 365)\t0.49786719004428165\n",
      "  (165, 1439)\t0.3691457774566081\n",
      "  (165, 277)\t0.2801857035462511\n",
      "  (166, 1775)\t0.5202850078624731\n",
      "  (166, 27)\t0.5202850078624731\n",
      "  (166, 1793)\t0.4150353696553368\n",
      "  (166, 1404)\t0.3874747512674459\n",
      "  (166, 780)\t0.23328681822884942\n",
      "  (166, 124)\t0.21783695082439458\n",
      "  (166, 1980)\t0.185311369183252\n"
     ]
    }
   ],
   "source": [
    "corpus_tfidf, features = tfidf(corpus)\n",
    "print(corpus_tfidf)"
   ]
  },
  {
   "cell_type": "code",
   "execution_count": 9,
   "metadata": {},
   "outputs": [
    {
     "data": {
      "text/plain": [
       "array(['10', '100', '105', ..., 'événement', 'êtes', 'être'], dtype=object)"
      ]
     },
     "execution_count": 9,
     "metadata": {},
     "output_type": "execute_result"
    }
   ],
   "source": [
    "features"
   ]
  },
  {
   "cell_type": "code",
   "execution_count": 10,
   "metadata": {},
   "outputs": [],
   "source": [
    "from nltk.data import load as tokenizer"
   ]
  },
  {
   "cell_type": "code",
   "execution_count": 11,
   "metadata": {},
   "outputs": [
    {
     "data": {
      "text/plain": [
       "['Deux agressions en quelques jours, voilà ce qui a motivé hier matin le débrayage collège franco-britanniquedeLevallois-Perret.',\n",
       " 'Deux agressions en quelques jours, voilà ce qui a motivé hier matin le débrayage Levallois.',\n",
       " \"L'équipe pédagogique de ce collège de 750 élèves avait déjà été choquée par l'agression, janvier , d'un professeur d'histoire.\",\n",
       " \"L'équipe pédagogique de ce collège de 750 élèves avait déjà été choquée par l'agression, mercredi , d'un professeur d'histoire\"]"
      ]
     },
     "execution_count": 11,
     "metadata": {},
     "output_type": "execute_result"
    }
   ],
   "source": [
    "french_tokenizer = tokenizer('tokenizers/punkt/french.pickle')\n",
    "french_tokenizer.tokenize('Deux agressions en quelques jours, voilà ce qui a motivé hier matin le débrayage collège franco-britanniquedeLevallois-Perret. Deux agressions en quelques jours, voilà ce qui a motivé hier matin le débrayage Levallois. L\\'équipe pédagogique de ce collège de 750 élèves avait déjà été choquée par l\\'agression, janvier , d\\'un professeur d\\'histoire. L\\'équipe pédagogique de ce collège de 750 élèves avait déjà été choquée par l\\'agression, mercredi , d\\'un professeur d\\'histoire')"
   ]
  }
 ],
 "metadata": {
  "kernelspec": {
   "display_name": "base",
   "language": "python",
   "name": "python3"
  },
  "language_info": {
   "codemirror_mode": {
    "name": "ipython",
    "version": 3
   },
   "file_extension": ".py",
   "mimetype": "text/x-python",
   "name": "python",
   "nbconvert_exporter": "python",
   "pygments_lexer": "ipython3",
   "version": "3.9.18"
  }
 },
 "nbformat": 4,
 "nbformat_minor": 2
}

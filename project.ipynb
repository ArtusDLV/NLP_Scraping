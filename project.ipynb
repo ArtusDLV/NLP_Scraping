{
 "cells": [
  {
   "cell_type": "code",
   "execution_count": 1,
   "metadata": {},
   "outputs": [],
   "source": [
    "from scripts.models import tfidf"
   ]
  },
  {
   "cell_type": "code",
   "execution_count": 2,
   "metadata": {},
   "outputs": [],
   "source": [
    "import pandas as pd\n",
    "import numpy as np"
   ]
  },
  {
   "cell_type": "code",
   "execution_count": 3,
   "metadata": {},
   "outputs": [],
   "source": [
    "from scripts.preprocessing import load_data,clean_df,tokenize,train_test"
   ]
  },
  {
   "cell_type": "code",
   "execution_count": 4,
   "metadata": {},
   "outputs": [
    {
     "data": {
      "text/html": [
       "<div>\n",
       "<style scoped>\n",
       "    .dataframe tbody tr th:only-of-type {\n",
       "        vertical-align: middle;\n",
       "    }\n",
       "\n",
       "    .dataframe tbody tr th {\n",
       "        vertical-align: top;\n",
       "    }\n",
       "\n",
       "    .dataframe thead th {\n",
       "        text-align: right;\n",
       "    }\n",
       "</style>\n",
       "<table border=\"1\" class=\"dataframe\">\n",
       "  <thead>\n",
       "    <tr style=\"text-align: right;\">\n",
       "      <th></th>\n",
       "      <th>Brand</th>\n",
       "      <th>Headline</th>\n",
       "      <th>Review</th>\n",
       "      <th>Grade</th>\n",
       "      <th>Tokenized_review</th>\n",
       "    </tr>\n",
       "  </thead>\n",
       "  <tbody>\n",
       "    <tr>\n",
       "      <th>0</th>\n",
       "      <td>Just Eat</td>\n",
       "      <td>owe me money and won’t pay</td>\n",
       "      <td>Owed money for a meal half empty and cold sinc...</td>\n",
       "      <td>1</td>\n",
       "      <td>[owe, money, meal, half, empty, cold, since, d...</td>\n",
       "    </tr>\n",
       "    <tr>\n",
       "      <th>1</th>\n",
       "      <td>Just Eat</td>\n",
       "      <td>P1ss poor. Won’t attempt to use again</td>\n",
       "      <td>Having ordered last night, I was given a deliv...</td>\n",
       "      <td>1</td>\n",
       "      <td>[order, last, night, I, give, delivery, time, ...</td>\n",
       "    </tr>\n",
       "    <tr>\n",
       "      <th>2</th>\n",
       "      <td>Just Eat</td>\n",
       "      <td>Compensation thieves!</td>\n",
       "      <td>Be careful of these money stealing, no deliver...</td>\n",
       "      <td>1</td>\n",
       "      <td>[careful, money, steal, deliver, joke, company...</td>\n",
       "    </tr>\n",
       "    <tr>\n",
       "      <th>3</th>\n",
       "      <td>Just Eat</td>\n",
       "      <td>The WORST customer service</td>\n",
       "      <td>The WORST customer service. Never received my ...</td>\n",
       "      <td>1</td>\n",
       "      <td>[bad, customer, service, never, receive, reque...</td>\n",
       "    </tr>\n",
       "    <tr>\n",
       "      <th>4</th>\n",
       "      <td>Just Eat</td>\n",
       "      <td>Awful customer service</td>\n",
       "      <td>Awful customer service. For past few months I'...</td>\n",
       "      <td>1</td>\n",
       "      <td>[awful, customer, service, past, month, I, fac...</td>\n",
       "    </tr>\n",
       "  </tbody>\n",
       "</table>\n",
       "</div>"
      ],
      "text/plain": [
       "      Brand                               Headline  \\\n",
       "0  Just Eat             owe me money and won’t pay   \n",
       "1  Just Eat  P1ss poor. Won’t attempt to use again   \n",
       "2  Just Eat                  Compensation thieves!   \n",
       "3  Just Eat             The WORST customer service   \n",
       "4  Just Eat                 Awful customer service   \n",
       "\n",
       "                                              Review  Grade  \\\n",
       "0  Owed money for a meal half empty and cold sinc...      1   \n",
       "1  Having ordered last night, I was given a deliv...      1   \n",
       "2  Be careful of these money stealing, no deliver...      1   \n",
       "3  The WORST customer service. Never received my ...      1   \n",
       "4  Awful customer service. For past few months I'...      1   \n",
       "\n",
       "                                    Tokenized_review  \n",
       "0  [owe, money, meal, half, empty, cold, since, d...  \n",
       "1  [order, last, night, I, give, delivery, time, ...  \n",
       "2  [careful, money, steal, deliver, joke, company...  \n",
       "3  [bad, customer, service, never, receive, reque...  \n",
       "4  [awful, customer, service, past, month, I, fac...  "
      ]
     },
     "execution_count": 4,
     "metadata": {},
     "output_type": "execute_result"
    }
   ],
   "source": [
    "df = load_data()\n",
    "df.head()"
   ]
  },
  {
   "cell_type": "code",
   "execution_count": 5,
   "metadata": {},
   "outputs": [
    {
     "data": {
      "text/plain": [
       "6067"
      ]
     },
     "execution_count": 5,
     "metadata": {},
     "output_type": "execute_result"
    }
   ],
   "source": [
    "len(df)"
   ]
  },
  {
   "cell_type": "code",
   "execution_count": 6,
   "metadata": {},
   "outputs": [],
   "source": [
    "corpus_tfidf, features = tfidf(df)"
   ]
  },
  {
   "cell_type": "code",
   "execution_count": 7,
   "metadata": {},
   "outputs": [
    {
     "data": {
      "text/plain": [
       "<6067x9841 sparse matrix of type '<class 'numpy.float64'>'\n",
       "\twith 114522 stored elements in Compressed Sparse Row format>"
      ]
     },
     "execution_count": 7,
     "metadata": {},
     "output_type": "execute_result"
    }
   ],
   "source": [
    "corpus_tfidf"
   ]
  },
  {
   "cell_type": "code",
   "execution_count": 8,
   "metadata": {},
   "outputs": [
    {
     "name": "stdout",
     "output_type": "stream",
     "text": [
      "['00' '010' '010224just' ... 'zucchini' 'zurich' 'аss'] 9841\n"
     ]
    }
   ],
   "source": [
    "print(features, len(features))"
   ]
  },
  {
   "cell_type": "code",
   "execution_count": 9,
   "metadata": {},
   "outputs": [
    {
     "name": "stdout",
     "output_type": "stream",
     "text": [
      "coarse :   (273, 0)\t0.6316555683363302\n",
      "coast :   (2589, 0)\t0.2166951050519382\n",
      "  (3080, 0)\t0.34801966947622764\n",
      "  (4713, 0)\t0.19514437272556506\n",
      "  (5720, 0)\t0.42878243430549295\n",
      "coat :   (3803, 0)\t0.27955428734619103\n",
      "  (4280, 0)\t0.18146896141103686\n",
      "coating :   (3717, 0)\t0.38253533314157406\n"
     ]
    }
   ],
   "source": [
    "for f in features[2000:2004]:\n",
    "    print(f, ':', corpus_tfidf[:,np.where(features == f)[0]])"
   ]
  },
  {
   "cell_type": "code",
   "execution_count": 10,
   "metadata": {},
   "outputs": [
    {
     "data": {
      "text/html": [
       "<div>\n",
       "<style scoped>\n",
       "    .dataframe tbody tr th:only-of-type {\n",
       "        vertical-align: middle;\n",
       "    }\n",
       "\n",
       "    .dataframe tbody tr th {\n",
       "        vertical-align: top;\n",
       "    }\n",
       "\n",
       "    .dataframe thead th {\n",
       "        text-align: right;\n",
       "    }\n",
       "</style>\n",
       "<table border=\"1\" class=\"dataframe\">\n",
       "  <thead>\n",
       "    <tr style=\"text-align: right;\">\n",
       "      <th></th>\n",
       "      <th>Brand</th>\n",
       "      <th>Headline</th>\n",
       "      <th>Review</th>\n",
       "      <th>Grade</th>\n",
       "      <th>Tokenized_review</th>\n",
       "      <th>Tokenized_headline</th>\n",
       "    </tr>\n",
       "  </thead>\n",
       "  <tbody>\n",
       "    <tr>\n",
       "      <th>0</th>\n",
       "      <td>Just Eat</td>\n",
       "      <td>owe me money and won’t pay</td>\n",
       "      <td>Owed money for a meal half empty and cold sinc...</td>\n",
       "      <td>1</td>\n",
       "      <td>[owe, money, meal, half, empty, cold, since, d...</td>\n",
       "      <td>[owe, I, money, wo, nt, pay]</td>\n",
       "    </tr>\n",
       "    <tr>\n",
       "      <th>1</th>\n",
       "      <td>Just Eat</td>\n",
       "      <td>P1ss poor. Won’t attempt to use again</td>\n",
       "      <td>Having ordered last night, I was given a deliv...</td>\n",
       "      <td>1</td>\n",
       "      <td>[order, last, night, I, give, delivery, time, ...</td>\n",
       "      <td>[p1ss, poor, wo, nt, attempt, use]</td>\n",
       "    </tr>\n",
       "    <tr>\n",
       "      <th>2</th>\n",
       "      <td>Just Eat</td>\n",
       "      <td>Compensation thieves!</td>\n",
       "      <td>Be careful of these money stealing, no deliver...</td>\n",
       "      <td>1</td>\n",
       "      <td>[careful, money, steal, deliver, joke, company...</td>\n",
       "      <td>[compensation, thief]</td>\n",
       "    </tr>\n",
       "    <tr>\n",
       "      <th>3</th>\n",
       "      <td>Just Eat</td>\n",
       "      <td>The WORST customer service</td>\n",
       "      <td>The WORST customer service. Never received my ...</td>\n",
       "      <td>1</td>\n",
       "      <td>[bad, customer, service, never, receive, reque...</td>\n",
       "      <td>[bad, customer, service]</td>\n",
       "    </tr>\n",
       "    <tr>\n",
       "      <th>4</th>\n",
       "      <td>Just Eat</td>\n",
       "      <td>Awful customer service</td>\n",
       "      <td>Awful customer service. For past few months I'...</td>\n",
       "      <td>1</td>\n",
       "      <td>[awful, customer, service, past, month, I, fac...</td>\n",
       "      <td>[awful, customer, service]</td>\n",
       "    </tr>\n",
       "  </tbody>\n",
       "</table>\n",
       "</div>"
      ],
      "text/plain": [
       "      Brand                               Headline  \\\n",
       "0  Just Eat             owe me money and won’t pay   \n",
       "1  Just Eat  P1ss poor. Won’t attempt to use again   \n",
       "2  Just Eat                  Compensation thieves!   \n",
       "3  Just Eat             The WORST customer service   \n",
       "4  Just Eat                 Awful customer service   \n",
       "\n",
       "                                              Review  Grade  \\\n",
       "0  Owed money for a meal half empty and cold sinc...      1   \n",
       "1  Having ordered last night, I was given a deliv...      1   \n",
       "2  Be careful of these money stealing, no deliver...      1   \n",
       "3  The WORST customer service. Never received my ...      1   \n",
       "4  Awful customer service. For past few months I'...      1   \n",
       "\n",
       "                                    Tokenized_review  \\\n",
       "0  [owe, money, meal, half, empty, cold, since, d...   \n",
       "1  [order, last, night, I, give, delivery, time, ...   \n",
       "2  [careful, money, steal, deliver, joke, company...   \n",
       "3  [bad, customer, service, never, receive, reque...   \n",
       "4  [awful, customer, service, past, month, I, fac...   \n",
       "\n",
       "                   Tokenized_headline  \n",
       "0        [owe, I, money, wo, nt, pay]  \n",
       "1  [p1ss, poor, wo, nt, attempt, use]  \n",
       "2               [compensation, thief]  \n",
       "3            [bad, customer, service]  \n",
       "4          [awful, customer, service]  "
      ]
     },
     "execution_count": 10,
     "metadata": {},
     "output_type": "execute_result"
    }
   ],
   "source": [
    "df = clean_df('Headline',df)\n",
    "df['Tokenized_headline'] = tokenize(df,'Headline')\n",
    "df.head()"
   ]
  },
  {
   "cell_type": "code",
   "execution_count": 11,
   "metadata": {},
   "outputs": [],
   "source": [
    "x_train, x_test, y_train, y_test = train_test(df)"
   ]
  },
  {
   "cell_type": "code",
   "execution_count": 15,
   "metadata": {},
   "outputs": [
    {
     "data": {
      "text/plain": [
       "2763    [two, business, day, shipping, tough, ca, nt, ...\n",
       "3758    [always, goto, coffee, shop, never, bad, exper...\n",
       "1652    [cs, rep, respond, quickly, question, issue, r...\n",
       "3872    [strange, one, I, want, normal, coffee, new, s...\n",
       "5143    [food, customer, service, delivery, I, wish, c...\n",
       "Name: Tokenized_review, dtype: object"
      ]
     },
     "execution_count": 15,
     "metadata": {},
     "output_type": "execute_result"
    }
   ],
   "source": [
    "y_test.head()"
   ]
  }
 ],
 "metadata": {
  "kernelspec": {
   "display_name": "base",
   "language": "python",
   "name": "python3"
  },
  "language_info": {
   "codemirror_mode": {
    "name": "ipython",
    "version": 3
   },
   "file_extension": ".py",
   "mimetype": "text/x-python",
   "name": "python",
   "nbconvert_exporter": "python",
   "pygments_lexer": "ipython3",
   "version": "3.9.18"
  }
 },
 "nbformat": 4,
 "nbformat_minor": 2
}
